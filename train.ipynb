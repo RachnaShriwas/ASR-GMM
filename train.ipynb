{
 "cells": [
  {
   "cell_type": "code",
   "execution_count": 113,
   "metadata": {},
   "outputs": [],
   "source": [
    "import pandas as pd\n",
    "import numpy as np\n",
    "from sklearn import mixture\n",
    "from sklearn.externals import joblib\n",
    "import pickle\n",
    "import gzip"
   ]
  },
  {
   "cell_type": "code",
   "execution_count": 59,
   "metadata": {},
   "outputs": [],
   "source": [
    "df = pd.read_hdf(\"./features/mfcc/timit.hdf\")\n",
    "\n",
    "features = np.array(df[\"features\"].tolist())\n",
    "labels = np.array(df[\"labels\"].tolist())\n",
    "\n",
    "#Training code"
   ]
  },
  {
   "cell_type": "code",
   "execution_count": 51,
   "metadata": {},
   "outputs": [
    {
     "data": {
      "text/plain": [
       "(1688203, 39)"
      ]
     },
     "execution_count": 51,
     "metadata": {},
     "output_type": "execute_result"
    }
   ],
   "source": [
    "features.shape"
   ]
  },
  {
   "cell_type": "code",
   "execution_count": 128,
   "metadata": {},
   "outputs": [
    {
     "data": {
      "text/plain": [
       "40"
      ]
     },
     "execution_count": 128,
     "metadata": {},
     "output_type": "execute_result"
    }
   ],
   "source": [
    "phoneme = set(labels)\n",
    "len(phoneme)"
   ]
  },
  {
   "cell_type": "code",
   "execution_count": 130,
   "metadata": {},
   "outputs": [],
   "source": [
    "#Step 6 (a)(i)\n",
    "#GMM for MFCC with energy coeff with 64 mixtures for all phonemes\n",
    "for ph in phoneme:\n",
    "    df_ph = np.asarray(df.loc[df[\"labels\"] == ph][\"features\"].tolist())[:,:13]\n",
    "    #print(df_ph.shape)\n",
    "    gmm = mixture.GaussianMixture(n_components=64, covariance_type='diag', max_iter=75 ).fit(df_ph)\n",
    "    joblib.dump(gmm, './models/MFCC/064/'+ph+'.pkl')\n",
    "    "
   ]
  },
  {
   "cell_type": "code",
   "execution_count": 131,
   "metadata": {},
   "outputs": [],
   "source": [
    "#Step 6 (a)(ii)\n",
    "#GMM for MFCC without energy coeff with 64 mixtures for all phonemes\n",
    "for ph in phoneme:\n",
    "    df_ph = np.asarray(df.loc[df[\"labels\"] == ph][\"features\"].tolist())[:,1:13]\n",
    "    #print(df_ph.shape)\n",
    "    gmm = mixture.GaussianMixture(n_components=64, covariance_type='diag', max_iter=75 ).fit(df_ph)\n",
    "    joblib.dump(gmm, './models/MFCC_wo_energy_coeff/064/'+ph+'.pkl')\n",
    "    "
   ]
  },
  {
   "cell_type": "code",
   "execution_count": 132,
   "metadata": {},
   "outputs": [],
   "source": [
    "#Step 6 (b)(i)\n",
    "#GMM for MFCC_delta with energy coeff with 64 mixtures for all phonemes\n",
    "for ph in phoneme:\n",
    "    df_ph = np.asarray(df.loc[df[\"labels\"] == ph][\"features\"].tolist())[:,13:26]\n",
    "    #print(df_ph.shape)\n",
    "    gmm = mixture.GaussianMixture(n_components=64, covariance_type='diag', max_iter=75 ).fit(df_ph)\n",
    "    joblib.dump(gmm, './models/MFCC_delta/064/'+ph+'.pkl')\n",
    "    "
   ]
  },
  {
   "cell_type": "code",
   "execution_count": 133,
   "metadata": {},
   "outputs": [],
   "source": [
    "#Step 6 (b)(ii)\n",
    "#GMM for MFCC_delta without energy coeff with 64 mixtures for all phonemes\n",
    "for ph in phoneme:\n",
    "    df_ph = np.asarray(df.loc[df[\"labels\"] == ph][\"features\"].tolist())[:,14:26]\n",
    "    #print(df_ph.shape)\n",
    "    gmm = mixture.GaussianMixture(n_components=64, covariance_type='diag', max_iter=75 ).fit(df_ph)\n",
    "    joblib.dump(gmm, './models/MFCC_delta_wo_energy_coeff/064/'+ph+'.pkl')\n",
    "    "
   ]
  },
  {
   "cell_type": "code",
   "execution_count": 134,
   "metadata": {},
   "outputs": [],
   "source": [
    "#Step 6 (c)(i)\n",
    "#GMM for MFCC_delta_delta with energy coeff with 64 mixtures for all phonemes\n",
    "for ph in phoneme:\n",
    "    df_ph = np.asarray(df.loc[df[\"labels\"] == ph][\"features\"].tolist())[:,26:]\n",
    "    #print(df_ph.shape)\n",
    "    gmm = mixture.GaussianMixture(n_components=64, covariance_type='diag', max_iter=75 ).fit(df_ph)\n",
    "    joblib.dump(gmm, './models/MFCC_delta_delta/064/'+ph+'.pkl')\n",
    "    "
   ]
  },
  {
   "cell_type": "code",
   "execution_count": 135,
   "metadata": {},
   "outputs": [],
   "source": [
    "#Step 6 (c)(ii)\n",
    "#GMM for MFCC_delta_delta without energy coeff with 64 mixtures for all phonemes\n",
    "for ph in phoneme:\n",
    "    df_ph = np.asarray(df.loc[df[\"labels\"] == ph][\"features\"].tolist())[:,27:]\n",
    "    #print(df_ph.shape)\n",
    "    gmm = mixture.GaussianMixture(n_components=64, covariance_type='diag', max_iter=75 ).fit(df_ph)\n",
    "    joblib.dump(gmm, './models/MFCC_delta_delta_wo_energy_coeff/064/'+ph+'.pkl')\n",
    "    "
   ]
  }
 ],
 "metadata": {
  "kernelspec": {
   "display_name": "Python 3",
   "language": "python",
   "name": "python3"
  },
  "language_info": {
   "codemirror_mode": {
    "name": "ipython",
    "version": 3
   },
   "file_extension": ".py",
   "mimetype": "text/x-python",
   "name": "python",
   "nbconvert_exporter": "python",
   "pygments_lexer": "ipython3",
   "version": "3.6.4"
  }
 },
 "nbformat": 4,
 "nbformat_minor": 2
}
